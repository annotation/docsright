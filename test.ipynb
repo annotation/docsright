{
 "cells": [
  {
   "cell_type": "code",
   "execution_count": 13,
   "id": "2dba0e2a-85be-487b-a55b-a585496cd180",
   "metadata": {},
   "outputs": [],
   "source": [
    "from itertools import islice\n",
    "\n",
    "from symspellpy import SymSpell, Verbosity"
   ]
  },
  {
   "cell_type": "code",
   "execution_count": 8,
   "id": "c2076e4b-2f9a-4e0d-ae99-16517d7961f6",
   "metadata": {},
   "outputs": [
    {
     "data": {
      "text/plain": [
       "True"
      ]
     },
     "execution_count": 8,
     "metadata": {},
     "output_type": "execute_result"
    }
   ],
   "source": [
    "sym_spell = SymSpell(2, 7)\n",
    "dictionaryPath = \"frequency_dictionary_en_82_765.txt\"\n",
    "bigramPath = \"frequency_bigramdictionary_en_243_342.txt\"\n",
    "sym_spell.load_dictionary(dictionaryPath, 0, 1)\n",
    "sym_spell.load_bigram_dictionary(bigramPath, 0, 2)"
   ]
  },
  {
   "cell_type": "code",
   "execution_count": 9,
   "id": "e084e077-541b-44f6-a791-be0c7f909e23",
   "metadata": {},
   "outputs": [
    {
     "name": "stdout",
     "output_type": "stream",
     "text": [
      "[('the', 23135851162), ('of', 13151942776), ('and', 12997637966), ('to', 12136980858), ('a', 9081174698)]\n"
     ]
    }
   ],
   "source": [
    "print(list(islice(sym_spell.words.items(), 5)))"
   ]
  },
  {
   "cell_type": "code",
   "execution_count": 10,
   "id": "90708c12-1193-4099-ac82-acce12bb7e8f",
   "metadata": {},
   "outputs": [
    {
     "name": "stdout",
     "output_type": "stream",
     "text": [
      "[('abcs of', 10956800), ('aaron and', 10721728), ('abbott and', 7861376), ('abbreviations and', 13518272), ('aberdeen and', 7347776)]\n"
     ]
    }
   ],
   "source": [
    "print(list(islice(sym_spell.bigrams.items(), 5)))"
   ]
  },
  {
   "cell_type": "code",
   "execution_count": 11,
   "id": "f1025306-17ac-4b3a-841f-df8bccba3401",
   "metadata": {},
   "outputs": [],
   "source": [
    "inputTerm = \"memebers\""
   ]
  },
  {
   "cell_type": "code",
   "execution_count": 14,
   "id": "6353b5c0-3bee-47cf-8159-59f8c776ddc6",
   "metadata": {},
   "outputs": [
    {
     "name": "stdout",
     "output_type": "stream",
     "text": [
      "members, 1, 226656153\n"
     ]
    }
   ],
   "source": [
    "suggestions = sym_spell.lookup(inputTerm, Verbosity.CLOSEST, max_edit_distance=2)\n",
    "for suggestion in suggestions:\n",
    "    print(suggestion)"
   ]
  },
  {
   "cell_type": "code",
   "execution_count": 18,
   "id": "0db025b5-8caa-446e-bbe7-c682b43b36ea",
   "metadata": {},
   "outputs": [
    {
     "name": "stdout",
     "output_type": "stream",
     "text": [
      "apostrophe, 2, 329645\n"
     ]
    }
   ],
   "source": [
    "inputTerm = \"apostraphee\"\n",
    "suggestions = sym_spell.lookup(\n",
    "    inputTerm, Verbosity.TOP, max_edit_distance=2, include_unknown=False\n",
    ")\n",
    "for suggestion in suggestions:\n",
    "    print(suggestion)"
   ]
  },
  {
   "cell_type": "code",
   "execution_count": null,
   "id": "dfcc8579-d202-4eed-85dc-5528f5a9e8d0",
   "metadata": {},
   "outputs": [],
   "source": []
  }
 ],
 "metadata": {
  "kernelspec": {
   "display_name": "Python 3 (ipykernel)",
   "language": "python",
   "name": "python3"
  },
  "language_info": {
   "codemirror_mode": {
    "name": "ipython",
    "version": 3
   },
   "file_extension": ".py",
   "mimetype": "text/x-python",
   "name": "python",
   "nbconvert_exporter": "python",
   "pygments_lexer": "ipython3",
   "version": "3.12.0"
  }
 },
 "nbformat": 4,
 "nbformat_minor": 5
}
